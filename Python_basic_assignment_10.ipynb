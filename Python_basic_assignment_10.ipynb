{
 "cells": [
  {
   "cell_type": "markdown",
   "id": "8a2e3c63",
   "metadata": {},
   "source": [
    "1. How do you distinguish between shutil.copy() and shutil.copytree()?"
   ]
  },
  {
   "cell_type": "code",
   "execution_count": null,
   "id": "9cb73782",
   "metadata": {},
   "outputs": [],
   "source": [
    "=>shutil.copy() method is used to copy the contents of a file from one file to another file/folder.\n",
    "shutil.copytree() function is used to copy the entire contents of a folder to other folder."
   ]
  },
  {
   "cell_type": "markdown",
   "id": "677a42da",
   "metadata": {},
   "source": [
    "2. What function is used to rename files??"
   ]
  },
  {
   "cell_type": "code",
   "execution_count": null,
   "id": "e5bcfd0b",
   "metadata": {},
   "outputs": [],
   "source": [
    "=>os.rename() function is used to rename files."
   ]
  },
  {
   "cell_type": "markdown",
   "id": "81842465",
   "metadata": {},
   "source": [
    "4.ZipFile objects have a close() method just like File objects’ close() method. What ZipFile\n",
    "method is equivalent to File objects’ open() method?"
   ]
  },
  {
   "cell_type": "code",
   "execution_count": null,
   "id": "636a5693",
   "metadata": {},
   "outputs": [],
   "source": [
    "=>zipfile.ZipFile('filename', mode = 'r')"
   ]
  }
 ],
 "metadata": {
  "kernelspec": {
   "display_name": "Python 3 (ipykernel)",
   "language": "python",
   "name": "python3"
  },
  "language_info": {
   "codemirror_mode": {
    "name": "ipython",
    "version": 3
   },
   "file_extension": ".py",
   "mimetype": "text/x-python",
   "name": "python",
   "nbconvert_exporter": "python",
   "pygments_lexer": "ipython3",
   "version": "3.10.9"
  }
 },
 "nbformat": 4,
 "nbformat_minor": 5
}
